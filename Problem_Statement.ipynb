{
 "cells": [
  {
   "cell_type": "markdown",
   "metadata": {},
   "source": [
    "<center> <h1> The Battle Of Neighborhoods </h1> </center> "
   ]
  },
  {
   "cell_type": "markdown",
   "metadata": {},
   "source": [
    "# Introduction"
   ]
  },
  {
   "cell_type": "markdown",
   "metadata": {},
   "source": [
    " <p>People often move from country to country or between cities for work meetings, where they dont know much about the neighborhoods of that particular city. So they may struggle to find the perfect hotel near thier work place. Hence this problem is solved by gathering the data of city and make the clusters of all the hotels. So that when user will put the location of his work place he will get recommendation of all the hotels near that location which are present in the same cluster. </p>"
   ]
  },
  {
   "cell_type": "markdown",
   "metadata": {},
   "source": [
    "# Data Section"
   ]
  },
  {
   "cell_type": "markdown",
   "metadata": {},
   "source": [
    "<p>We will use Geopy to get the Latitude and Longitude values of the cities and user workplace. Then to get the data about hotels and its name and distance all the opther things we will be using Foursquare. We will request foursquare for hotel data which will be returned in Json file. Then information will be extracted from that json file to DataFrame which will be further be used in clustering process. </p>"
   ]
  },
  {
   "cell_type": "code",
   "execution_count": null,
   "metadata": {},
   "outputs": [],
   "source": []
  }
 ],
 "metadata": {
  "kernelspec": {
   "display_name": "Python 3",
   "language": "python",
   "name": "python3"
  },
  "language_info": {
   "codemirror_mode": {
    "name": "ipython",
    "version": 3
   },
   "file_extension": ".py",
   "mimetype": "text/x-python",
   "name": "python",
   "nbconvert_exporter": "python",
   "pygments_lexer": "ipython3",
   "version": "3.7.3"
  }
 },
 "nbformat": 4,
 "nbformat_minor": 2
}

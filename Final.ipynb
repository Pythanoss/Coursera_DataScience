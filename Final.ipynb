{
 "cells": [
  {
   "cell_type": "markdown",
   "metadata": {},
   "source": [
    "<center> <h1> The Battle Of Neighborhoods </h1> </center> "
   ]
  },
  {
   "cell_type": "markdown",
   "metadata": {},
   "source": [
    "# Introduction\n"
   ]
  },
  {
   "cell_type": "markdown",
   "metadata": {},
   "source": [
    "   <p>People often move from country to country or between cities for work meetings, where they dont know much about the neighborhoods of that particular city. So they may struggle to find the perfect hotel near thier work place. Hence this problem is solved by gathering the data of city and make the clusters of all the hotels. So that when user will put the location of his work place he will get recommendation of all the hotels near that location which are present in the same cluster. </p>"
   ]
  },
  {
   "cell_type": "markdown",
   "metadata": {},
   "source": [
    "# Data Section"
   ]
  },
  {
   "cell_type": "markdown",
   "metadata": {},
   "source": [
    "<p>We will use Geopy to get the Latitude and Longitude values of the cities and user workplace. Then to get the data about hotels and its name and distance all the opther things we will be using Foursquare. We will request foursquare for hotel data which will be returned in Json file. Then information will be extracted from that json file to DataFrame which will be further be used in clustering process. </p>"
   ]
  },
  {
   "cell_type": "markdown",
   "metadata": {},
   "source": [
    "# Importing Libraries"
   ]
  },
  {
   "cell_type": "code",
   "execution_count": 7,
   "metadata": {},
   "outputs": [],
   "source": [
    "from geopy.geocoders import Nominatim  #Obtain the latitude and longitude\n",
    "import folium #USed to create map"
   ]
  },
  {
   "cell_type": "code",
   "execution_count": 8,
   "metadata": {},
   "outputs": [],
   "source": [
    "import json, requests\n",
    "import pandas as pd\n",
    "import matplotlib.pyplot as plt"
   ]
  },
  {
   "cell_type": "markdown",
   "metadata": {},
   "source": [
    "# Getting latitude and longitude of New York City"
   ]
  },
  {
   "cell_type": "code",
   "execution_count": 98,
   "metadata": {},
   "outputs": [
    {
     "name": "stdout",
     "output_type": "stream",
     "text": [
      "The geograpical coordinate of New York City are 40.7127281, -74.0060152.\n"
     ]
    }
   ],
   "source": [
    "address = 'new york'\n",
    "geolocator = Nominatim(user_agent='tor_exp')\n",
    "location = geolocator.geocode(address)\n",
    "latitude = location.latitude\n",
    "longitude = location.longitude\n",
    "print('The geograpical coordinate of New York City are {}, {}.'.format(latitude, longitude))"
   ]
  },
  {
   "cell_type": "markdown",
   "metadata": {},
   "source": [
    "# Showing on map"
   ]
  },
  {
   "cell_type": "code",
   "execution_count": 110,
   "metadata": {},
   "outputs": [],
   "source": [
    "mb_map = folium.Map(location=[latitude, longitude], zoom_start=10)"
   ]
  },
  {
   "cell_type": "code",
   "execution_count": 115,
   "metadata": {},
   "outputs": [
    {
     "data": {
      "text/html": [
       "<div style=\"width:100%;\"><div style=\"position:relative;width:100%;height:0;padding-bottom:60%;\"><iframe src=\"data:text/html;charset=utf-8;base64,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\" style=\"position:absolute;width:100%;height:100%;left:0;top:0;border:none !important;\" allowfullscreen webkitallowfullscreen mozallowfullscreen></iframe></div></div>"
      ],
      "text/plain": [
       "<folium.folium.Map at 0x1f0d7d06c50>"
      ]
     },
     "execution_count": 115,
     "metadata": {},
     "output_type": "execute_result"
    }
   ],
   "source": [
    "mb_map"
   ]
  },
  {
   "cell_type": "markdown",
   "metadata": {},
   "source": [
    "# Connecting to Foursquare"
   ]
  },
  {
   "cell_type": "code",
   "execution_count": 86,
   "metadata": {},
   "outputs": [],
   "source": [
    "url = 'https://api.foursquare.com/v2/venues/search'\n",
    "\n",
    "params = dict(\n",
    "  client_id='YHGYTIK2N2PBCCPQG1R3NH3FZGUJVKU0UAI4MZETKSYCY35H',\n",
    "  client_secret='CFWYEGLWXPSMKIMNA3GABPS25FOAM5W2KQYQ0M4CRFF4LHHA',\n",
    "  v='20180323',\n",
    "  ll='40.7127281,-74.0060152',\n",
    "  query='Hotel',                             #tell them what you want\n",
    "  limit=40\n",
    ")\n",
    "resp = requests.get(url=url, params=params)\n",
    "data = json.loads(resp.text) "
   ]
  },
  {
   "cell_type": "markdown",
   "metadata": {},
   "source": [
    "# Creating Dataframe from Json file"
   ]
  },
  {
   "cell_type": "code",
   "execution_count": 87,
   "metadata": {},
   "outputs": [],
   "source": [
    "name = []\n",
    "address = []\n",
    "lat = []\n",
    "lng = []\n",
    "distance=[]\n",
    "city = []"
   ]
  },
  {
   "cell_type": "code",
   "execution_count": 88,
   "metadata": {},
   "outputs": [],
   "source": [
    "for g in data['response']['venues']:\n",
    "    name.append(g['name'])\n",
    "    address.append(g['location']['address'])\n",
    "    lat.append(g['location']['lat'])\n",
    "    lng.append(g['location']['lng'])\n",
    "    distance.append(g['location']['distance'])\n",
    "    city.append(g['location']['city'])\n"
   ]
  },
  {
   "cell_type": "code",
   "execution_count": 89,
   "metadata": {},
   "outputs": [],
   "source": [
    "zippedList =  list(zip(name,distance,lat,lng))"
   ]
  },
  {
   "cell_type": "code",
   "execution_count": 90,
   "metadata": {},
   "outputs": [],
   "source": [
    "df_hotel= pd.DataFrame(zippedList,columns=['Name','Distance','Lat','Lng','City','Address'])"
   ]
  },
  {
   "cell_type": "code",
   "execution_count": null,
   "metadata": {},
   "outputs": [],
   "source": [
    "df_hotel.to_csv('hotel.csv')"
   ]
  },
  {
   "cell_type": "code",
   "execution_count": 96,
   "metadata": {},
   "outputs": [],
   "source": [
    "df=pd.read_csv('hotel.csv')"
   ]
  },
  {
   "cell_type": "code",
   "execution_count": 97,
   "metadata": {},
   "outputs": [
    {
     "data": {
      "text/html": [
       "<div>\n",
       "<style scoped>\n",
       "    .dataframe tbody tr th:only-of-type {\n",
       "        vertical-align: middle;\n",
       "    }\n",
       "\n",
       "    .dataframe tbody tr th {\n",
       "        vertical-align: top;\n",
       "    }\n",
       "\n",
       "    .dataframe thead th {\n",
       "        text-align: right;\n",
       "    }\n",
       "</style>\n",
       "<table border=\"1\" class=\"dataframe\">\n",
       "  <thead>\n",
       "    <tr style=\"text-align: right;\">\n",
       "      <th></th>\n",
       "      <th>Name</th>\n",
       "      <th>Distance</th>\n",
       "      <th>Lat</th>\n",
       "      <th>Lng</th>\n",
       "      <th>City</th>\n",
       "      <th>Address</th>\n",
       "    </tr>\n",
       "  </thead>\n",
       "  <tbody>\n",
       "    <tr>\n",
       "      <th>0</th>\n",
       "      <td>Smyth Hotel</td>\n",
       "      <td>379</td>\n",
       "      <td>40.715144</td>\n",
       "      <td>-74.009183</td>\n",
       "      <td>New York</td>\n",
       "      <td>85 W Broadway</td>\n",
       "    </tr>\n",
       "    <tr>\n",
       "      <th>1</th>\n",
       "      <td>The Roxy Hotel</td>\n",
       "      <td>740</td>\n",
       "      <td>40.719341</td>\n",
       "      <td>-74.005044</td>\n",
       "      <td>New York</td>\n",
       "      <td>2 Avenue of the Americas</td>\n",
       "    </tr>\n",
       "    <tr>\n",
       "      <th>2</th>\n",
       "      <td>Four Seasons Hotel New York Downtown</td>\n",
       "      <td>284</td>\n",
       "      <td>40.712612</td>\n",
       "      <td>-74.009380</td>\n",
       "      <td>New York</td>\n",
       "      <td>27 Barclay St</td>\n",
       "    </tr>\n",
       "    <tr>\n",
       "      <th>3</th>\n",
       "      <td>Soho Grand Hotel</td>\n",
       "      <td>1036</td>\n",
       "      <td>40.721942</td>\n",
       "      <td>-74.004217</td>\n",
       "      <td>New York</td>\n",
       "      <td>310 W Broadway</td>\n",
       "    </tr>\n",
       "    <tr>\n",
       "      <th>4</th>\n",
       "      <td>Hotel 50 Bowery NYC</td>\n",
       "      <td>856</td>\n",
       "      <td>40.715936</td>\n",
       "      <td>-73.996789</td>\n",
       "      <td>New York</td>\n",
       "      <td>50 Bowery</td>\n",
       "    </tr>\n",
       "  </tbody>\n",
       "</table>\n",
       "</div>"
      ],
      "text/plain": [
       "                                   Name  Distance        Lat        Lng  \\\n",
       "0                           Smyth Hotel       379  40.715144 -74.009183   \n",
       "1                        The Roxy Hotel       740  40.719341 -74.005044   \n",
       "2  Four Seasons Hotel New York Downtown       284  40.712612 -74.009380   \n",
       "3                      Soho Grand Hotel      1036  40.721942 -74.004217   \n",
       "4                   Hotel 50 Bowery NYC       856  40.715936 -73.996789   \n",
       "\n",
       "       City                   Address  \n",
       "0  New York             85 W Broadway  \n",
       "1  New York  2 Avenue of the Americas  \n",
       "2  New York             27 Barclay St  \n",
       "3  New York            310 W Broadway  \n",
       "4  New York                 50 Bowery  "
      ]
     },
     "execution_count": 97,
     "metadata": {},
     "output_type": "execute_result"
    }
   ],
   "source": [
    "df.head()"
   ]
  },
  {
   "cell_type": "markdown",
   "metadata": {},
   "source": [
    "# Performing Clustering"
   ]
  },
  {
   "cell_type": "code",
   "execution_count": 99,
   "metadata": {},
   "outputs": [],
   "source": [
    "from sklearn.cluster import KMeans"
   ]
  },
  {
   "cell_type": "code",
   "execution_count": 102,
   "metadata": {},
   "outputs": [],
   "source": [
    "X=df.iloc[:,[2,3]].values"
   ]
  },
  {
   "cell_type": "markdown",
   "metadata": {},
   "source": [
    "# Using Elbow Method To Find The Value of Cluster"
   ]
  },
  {
   "cell_type": "code",
   "execution_count": 103,
   "metadata": {},
   "outputs": [],
   "source": [
    "wcss=[]\n",
    "for i in range(1,11):\n",
    "    km = KMeans(n_clusters=i,init='k-means++')\n",
    "    km.fit(X)\n",
    "    wcss.append(km.inertia_)"
   ]
  },
  {
   "cell_type": "code",
   "execution_count": 104,
   "metadata": {
    "scrolled": true
   },
   "outputs": [
    {
     "data": {
      "image/png": "[encoded data removed]",
      "text/plain": [
       "<Figure size 432x288 with 1 Axes>"
      ]
     },
     "metadata": {
      "needs_background": "light"
     },
     "output_type": "display_data"
    }
   ],
   "source": [
    "plt.plot(range(1,11),wcss)\n",
    "plt.show()"
   ]
  },
  {
   "cell_type": "markdown",
   "metadata": {},
   "source": [
    "# K-means"
   ]
  },
  {
   "cell_type": "code",
   "execution_count": 105,
   "metadata": {},
   "outputs": [
    {
     "data": {
      "text/plain": [
       "KMeans(algorithm='auto', copy_x=True, init='k-means++', max_iter=300,\n",
       "    n_clusters=4, n_init=10, n_jobs=None, precompute_distances='auto',\n",
       "    random_state=None, tol=0.0001, verbose=0)"
      ]
     },
     "execution_count": 105,
     "metadata": {},
     "output_type": "execute_result"
    }
   ],
   "source": [
    "km = KMeans(n_clusters=4,init='k-means++')\n",
    "km.fit(X)"
   ]
  },
  {
   "cell_type": "code",
   "execution_count": 106,
   "metadata": {},
   "outputs": [],
   "source": [
    "y_pred = km.predict(X)"
   ]
  },
  {
   "cell_type": "code",
   "execution_count": 107,
   "metadata": {},
   "outputs": [
    {
     "data": {
      "text/plain": [
       "array([0, 0, 0, 0, 2, 2, 0, 0, 2, 1, 2, 0, 0, 3, 2, 2, 0, 2, 0, 2, 2, 0,\n",
       "       1, 0, 0, 2, 3, 3, 3, 3, 2, 0, 1, 0, 0, 2, 3, 1, 1, 1])"
      ]
     },
     "execution_count": 107,
     "metadata": {},
     "output_type": "execute_result"
    }
   ],
   "source": [
    "y_pred"
   ]
  },
  {
   "cell_type": "markdown",
   "metadata": {},
   "source": [
    "# Including Cluster Numbers To Dataframe"
   ]
  },
  {
   "cell_type": "code",
   "execution_count": 108,
   "metadata": {},
   "outputs": [],
   "source": [
    "df['Cluster']=y_pred"
   ]
  },
  {
   "cell_type": "code",
   "execution_count": 109,
   "metadata": {},
   "outputs": [
    {
     "data": {
      "text/html": [
       "<div>\n",
       "<style scoped>\n",
       "    .dataframe tbody tr th:only-of-type {\n",
       "        vertical-align: middle;\n",
       "    }\n",
       "\n",
       "    .dataframe tbody tr th {\n",
       "        vertical-align: top;\n",
       "    }\n",
       "\n",
       "    .dataframe thead th {\n",
       "        text-align: right;\n",
       "    }\n",
       "</style>\n",
       "<table border=\"1\" class=\"dataframe\">\n",
       "  <thead>\n",
       "    <tr style=\"text-align: right;\">\n",
       "      <th></th>\n",
       "      <th>Name</th>\n",
       "      <th>Distance</th>\n",
       "      <th>Lat</th>\n",
       "      <th>Lng</th>\n",
       "      <th>City</th>\n",
       "      <th>Address</th>\n",
       "      <th>Cluster</th>\n",
       "    </tr>\n",
       "  </thead>\n",
       "  <tbody>\n",
       "    <tr>\n",
       "      <th>0</th>\n",
       "      <td>Smyth Hotel</td>\n",
       "      <td>379</td>\n",
       "      <td>40.715144</td>\n",
       "      <td>-74.009183</td>\n",
       "      <td>New York</td>\n",
       "      <td>85 W Broadway</td>\n",
       "      <td>0</td>\n",
       "    </tr>\n",
       "    <tr>\n",
       "      <th>1</th>\n",
       "      <td>The Roxy Hotel</td>\n",
       "      <td>740</td>\n",
       "      <td>40.719341</td>\n",
       "      <td>-74.005044</td>\n",
       "      <td>New York</td>\n",
       "      <td>2 Avenue of the Americas</td>\n",
       "      <td>0</td>\n",
       "    </tr>\n",
       "    <tr>\n",
       "      <th>2</th>\n",
       "      <td>Four Seasons Hotel New York Downtown</td>\n",
       "      <td>284</td>\n",
       "      <td>40.712612</td>\n",
       "      <td>-74.009380</td>\n",
       "      <td>New York</td>\n",
       "      <td>27 Barclay St</td>\n",
       "      <td>0</td>\n",
       "    </tr>\n",
       "    <tr>\n",
       "      <th>3</th>\n",
       "      <td>Soho Grand Hotel</td>\n",
       "      <td>1036</td>\n",
       "      <td>40.721942</td>\n",
       "      <td>-74.004217</td>\n",
       "      <td>New York</td>\n",
       "      <td>310 W Broadway</td>\n",
       "      <td>0</td>\n",
       "    </tr>\n",
       "    <tr>\n",
       "      <th>4</th>\n",
       "      <td>Hotel 50 Bowery NYC</td>\n",
       "      <td>856</td>\n",
       "      <td>40.715936</td>\n",
       "      <td>-73.996789</td>\n",
       "      <td>New York</td>\n",
       "      <td>50 Bowery</td>\n",
       "      <td>2</td>\n",
       "    </tr>\n",
       "  </tbody>\n",
       "</table>\n",
       "</div>"
      ],
      "text/plain": [
       "                                   Name  Distance        Lat        Lng  \\\n",
       "0                           Smyth Hotel       379  40.715144 -74.009183   \n",
       "1                        The Roxy Hotel       740  40.719341 -74.005044   \n",
       "2  Four Seasons Hotel New York Downtown       284  40.712612 -74.009380   \n",
       "3                      Soho Grand Hotel      1036  40.721942 -74.004217   \n",
       "4                   Hotel 50 Bowery NYC       856  40.715936 -73.996789   \n",
       "\n",
       "       City                   Address  Cluster  \n",
       "0  New York             85 W Broadway        0  \n",
       "1  New York  2 Avenue of the Americas        0  \n",
       "2  New York             27 Barclay St        0  \n",
       "3  New York            310 W Broadway        0  \n",
       "4  New York                 50 Bowery        2  "
      ]
     },
     "execution_count": 109,
     "metadata": {},
     "output_type": "execute_result"
    }
   ],
   "source": [
    "df.head()"
   ]
  },
  {
   "cell_type": "markdown",
   "metadata": {},
   "source": [
    "# Asking User To Enter The Name Of Neighbourhood "
   ]
  },
  {
   "cell_type": "code",
   "execution_count": 113,
   "metadata": {},
   "outputs": [
    {
     "name": "stdout",
     "output_type": "stream",
     "text": [
      "Enter the neighbourhood name where you want to stay = Chinatown,New York\n"
     ]
    }
   ],
   "source": [
    "add = input('Enter the neighbourhood name where you want to stay = ')"
   ]
  },
  {
   "cell_type": "code",
   "execution_count": 83,
   "metadata": {},
   "outputs": [
    {
     "name": "stdout",
     "output_type": "stream",
     "text": [
      "The geograpical coordinates are 40.7164913, -73.9962504.\n"
     ]
    }
   ],
   "source": [
    "address = add\n",
    "geolocator = Nominatim(user_agent='tor_exp')\n",
    "location = geolocator.geocode(address)\n",
    "latitude = location.latitude\n",
    "longitude = location.longitude\n",
    "print('The geograpical coordinates are {}, {}.'.format(latitude, longitude))"
   ]
  },
  {
   "cell_type": "code",
   "execution_count": 84,
   "metadata": {},
   "outputs": [],
   "source": [
    "ans = km.predict([[latitude,longitude]])"
   ]
  },
  {
   "cell_type": "markdown",
   "metadata": {},
   "source": [
    "# Recommended Hotels Name"
   ]
  },
  {
   "cell_type": "code",
   "execution_count": 114,
   "metadata": {},
   "outputs": [
    {
     "data": {
      "text/html": [
       "<div>\n",
       "<style scoped>\n",
       "    .dataframe tbody tr th:only-of-type {\n",
       "        vertical-align: middle;\n",
       "    }\n",
       "\n",
       "    .dataframe tbody tr th {\n",
       "        vertical-align: top;\n",
       "    }\n",
       "\n",
       "    .dataframe thead th {\n",
       "        text-align: right;\n",
       "    }\n",
       "</style>\n",
       "<table border=\"1\" class=\"dataframe\">\n",
       "  <thead>\n",
       "    <tr style=\"text-align: right;\">\n",
       "      <th></th>\n",
       "      <th>Name</th>\n",
       "      <th>Distance</th>\n",
       "      <th>Lat</th>\n",
       "      <th>Lng</th>\n",
       "      <th>City</th>\n",
       "      <th>Address</th>\n",
       "      <th>Cluster</th>\n",
       "    </tr>\n",
       "  </thead>\n",
       "  <tbody>\n",
       "    <tr>\n",
       "      <th>4</th>\n",
       "      <td>Hotel 50 Bowery NYC</td>\n",
       "      <td>856</td>\n",
       "      <td>40.715936</td>\n",
       "      <td>-73.996789</td>\n",
       "      <td>New York</td>\n",
       "      <td>50 Bowery</td>\n",
       "      <td>2</td>\n",
       "    </tr>\n",
       "    <tr>\n",
       "      <th>5</th>\n",
       "      <td>Hotel Indigo</td>\n",
       "      <td>1816</td>\n",
       "      <td>40.721762</td>\n",
       "      <td>-73.988092</td>\n",
       "      <td>New York</td>\n",
       "      <td>171 Ludlow St</td>\n",
       "      <td>2</td>\n",
       "    </tr>\n",
       "    <tr>\n",
       "      <th>8</th>\n",
       "      <td>The Leon Hotel</td>\n",
       "      <td>984</td>\n",
       "      <td>40.715994</td>\n",
       "      <td>-73.995171</td>\n",
       "      <td>New York</td>\n",
       "      <td>125 Canal St</td>\n",
       "      <td>2</td>\n",
       "    </tr>\n",
       "    <tr>\n",
       "      <th>10</th>\n",
       "      <td>Mercer Hotel</td>\n",
       "      <td>1486</td>\n",
       "      <td>40.724828</td>\n",
       "      <td>-73.998553</td>\n",
       "      <td>New York</td>\n",
       "      <td>147 Mercer St</td>\n",
       "      <td>2</td>\n",
       "    </tr>\n",
       "    <tr>\n",
       "      <th>14</th>\n",
       "      <td>SIXTY SoHo Hotel</td>\n",
       "      <td>1276</td>\n",
       "      <td>40.723990</td>\n",
       "      <td>-74.003160</td>\n",
       "      <td>New York</td>\n",
       "      <td>60 Thompson St</td>\n",
       "      <td>2</td>\n",
       "    </tr>\n",
       "    <tr>\n",
       "      <th>15</th>\n",
       "      <td>Hotel Chantelle</td>\n",
       "      <td>1567</td>\n",
       "      <td>40.718483</td>\n",
       "      <td>-73.989056</td>\n",
       "      <td>New York</td>\n",
       "      <td>92 Ludlow St</td>\n",
       "      <td>2</td>\n",
       "    </tr>\n",
       "    <tr>\n",
       "      <th>17</th>\n",
       "      <td>The Bowery Hotel</td>\n",
       "      <td>1924</td>\n",
       "      <td>40.726145</td>\n",
       "      <td>-73.991627</td>\n",
       "      <td>New York</td>\n",
       "      <td>335 Bowery</td>\n",
       "      <td>2</td>\n",
       "    </tr>\n",
       "    <tr>\n",
       "      <th>19</th>\n",
       "      <td>SIXTY LES Hotel</td>\n",
       "      <td>1807</td>\n",
       "      <td>40.722090</td>\n",
       "      <td>-73.988510</td>\n",
       "      <td>New York</td>\n",
       "      <td>190 Allen St</td>\n",
       "      <td>2</td>\n",
       "    </tr>\n",
       "    <tr>\n",
       "      <th>20</th>\n",
       "      <td>The Ludlow Hotel</td>\n",
       "      <td>1884</td>\n",
       "      <td>40.721857</td>\n",
       "      <td>-73.987204</td>\n",
       "      <td>New York</td>\n",
       "      <td>188 Ludlow St</td>\n",
       "      <td>2</td>\n",
       "    </tr>\n",
       "    <tr>\n",
       "      <th>25</th>\n",
       "      <td>Best Western Bowery Hanbee Hotel</td>\n",
       "      <td>1112</td>\n",
       "      <td>40.718446</td>\n",
       "      <td>-73.995198</td>\n",
       "      <td>New York</td>\n",
       "      <td>231 Grand St</td>\n",
       "      <td>2</td>\n",
       "    </tr>\n",
       "    <tr>\n",
       "      <th>30</th>\n",
       "      <td>Crosby Street Hotel</td>\n",
       "      <td>1353</td>\n",
       "      <td>40.723011</td>\n",
       "      <td>-73.997454</td>\n",
       "      <td>New York</td>\n",
       "      <td>79 Crosby St</td>\n",
       "      <td>2</td>\n",
       "    </tr>\n",
       "    <tr>\n",
       "      <th>35</th>\n",
       "      <td>The Nolitan Hotel</td>\n",
       "      <td>1254</td>\n",
       "      <td>40.720577</td>\n",
       "      <td>-73.995339</td>\n",
       "      <td>New York</td>\n",
       "      <td>30 Kenmare St</td>\n",
       "      <td>2</td>\n",
       "    </tr>\n",
       "  </tbody>\n",
       "</table>\n",
       "</div>"
      ],
      "text/plain": [
       "                                Name  Distance        Lat        Lng  \\\n",
       "4                Hotel 50 Bowery NYC       856  40.715936 -73.996789   \n",
       "5                       Hotel Indigo      1816  40.721762 -73.988092   \n",
       "8                     The Leon Hotel       984  40.715994 -73.995171   \n",
       "10                      Mercer Hotel      1486  40.724828 -73.998553   \n",
       "14                  SIXTY SoHo Hotel      1276  40.723990 -74.003160   \n",
       "15                   Hotel Chantelle      1567  40.718483 -73.989056   \n",
       "17                  The Bowery Hotel      1924  40.726145 -73.991627   \n",
       "19                   SIXTY LES Hotel      1807  40.722090 -73.988510   \n",
       "20                  The Ludlow Hotel      1884  40.721857 -73.987204   \n",
       "25  Best Western Bowery Hanbee Hotel      1112  40.718446 -73.995198   \n",
       "30               Crosby Street Hotel      1353  40.723011 -73.997454   \n",
       "35                 The Nolitan Hotel      1254  40.720577 -73.995339   \n",
       "\n",
       "        City         Address  Cluster  \n",
       "4   New York       50 Bowery        2  \n",
       "5   New York   171 Ludlow St        2  \n",
       "8   New York    125 Canal St        2  \n",
       "10  New York   147 Mercer St        2  \n",
       "14  New York  60 Thompson St        2  \n",
       "15  New York    92 Ludlow St        2  \n",
       "17  New York      335 Bowery        2  \n",
       "19  New York    190 Allen St        2  \n",
       "20  New York   188 Ludlow St        2  \n",
       "25  New York    231 Grand St        2  \n",
       "30  New York    79 Crosby St        2  \n",
       "35  New York   30 Kenmare St        2  "
      ]
     },
     "execution_count": 114,
     "metadata": {},
     "output_type": "execute_result"
    }
   ],
   "source": [
    "df.loc[df['Cluster'] == ans[0]]"
   ]
  },
  {
   "cell_type": "code",
   "execution_count": null,
   "metadata": {},
   "outputs": [],
   "source": []
  },
  {
   "cell_type": "code",
   "execution_count": null,
   "metadata": {},
   "outputs": [],
   "source": []
  },
  {
   "cell_type": "code",
   "execution_count": null,
   "metadata": {},
   "outputs": [],
   "source": []
  }
 ],
 "metadata": {
  "kernelspec": {
   "display_name": "Python 3",
   "language": "python",
   "name": "python3"
  },
  "language_info": {
   "codemirror_mode": {
    "name": "ipython",
    "version": 3
   },
   "file_extension": ".py",
   "mimetype": "text/x-python",
   "name": "python",
   "nbconvert_exporter": "python",
   "pygments_lexer": "ipython3",
   "version": "3.7.3"
  }
 },
 "nbformat": 4,
 "nbformat_minor": 2
}
